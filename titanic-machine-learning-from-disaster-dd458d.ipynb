{
 "cells": [
  {
   "cell_type": "code",
   "execution_count": 1,
   "id": "6dfdaf29",
   "metadata": {
    "_execution_state": "idle",
    "_uuid": "051d70d956493feee0c6d64651c6a088724dca2a",
    "execution": {
     "iopub.execute_input": "2023-06-14T09:21:11.270123Z",
     "iopub.status.busy": "2023-06-14T09:21:11.269640Z",
     "iopub.status.idle": "2023-06-14T09:21:11.278981Z",
     "shell.execute_reply": "2023-06-14T09:21:11.278029Z"
    },
    "papermill": {
     "duration": 0.021924,
     "end_time": "2023-06-14T09:21:11.281121",
     "exception": false,
     "start_time": "2023-06-14T09:21:11.259197",
     "status": "completed"
    },
    "tags": []
   },
   "outputs": [],
   "source": [
    "import pandas as pd\n",
    "from matplotlib import pyplot as plt"
   ]
  },
  {
   "cell_type": "code",
   "execution_count": 2,
   "id": "b2257a02",
   "metadata": {
    "execution": {
     "iopub.execute_input": "2023-06-14T09:21:11.296738Z",
     "iopub.status.busy": "2023-06-14T09:21:11.296179Z",
     "iopub.status.idle": "2023-06-14T09:21:11.326089Z",
     "shell.execute_reply": "2023-06-14T09:21:11.325011Z"
    },
    "papermill": {
     "duration": 0.040507,
     "end_time": "2023-06-14T09:21:11.328691",
     "exception": false,
     "start_time": "2023-06-14T09:21:11.288184",
     "status": "completed"
    },
    "tags": []
   },
   "outputs": [],
   "source": [
    "titanic_train=pd.read_csv('/kaggle/input/titanic/train.csv')\n",
    "titanic_test=pd.read_csv('/kaggle/input/titanic/test.csv')"
   ]
  },
  {
   "cell_type": "code",
   "execution_count": 3,
   "id": "2fa4214d",
   "metadata": {
    "execution": {
     "iopub.execute_input": "2023-06-14T09:21:11.345451Z",
     "iopub.status.busy": "2023-06-14T09:21:11.344730Z",
     "iopub.status.idle": "2023-06-14T09:21:11.377976Z",
     "shell.execute_reply": "2023-06-14T09:21:11.376918Z"
    },
    "papermill": {
     "duration": 0.043974,
     "end_time": "2023-06-14T09:21:11.380087",
     "exception": false,
     "start_time": "2023-06-14T09:21:11.336113",
     "status": "completed"
    },
    "tags": []
   },
   "outputs": [
    {
     "data": {
      "text/html": [
       "<div>\n",
       "<style scoped>\n",
       "    .dataframe tbody tr th:only-of-type {\n",
       "        vertical-align: middle;\n",
       "    }\n",
       "\n",
       "    .dataframe tbody tr th {\n",
       "        vertical-align: top;\n",
       "    }\n",
       "\n",
       "    .dataframe thead th {\n",
       "        text-align: right;\n",
       "    }\n",
       "</style>\n",
       "<table border=\"1\" class=\"dataframe\">\n",
       "  <thead>\n",
       "    <tr style=\"text-align: right;\">\n",
       "      <th></th>\n",
       "      <th>PassengerId</th>\n",
       "      <th>Survived</th>\n",
       "      <th>Pclass</th>\n",
       "      <th>Name</th>\n",
       "      <th>Sex</th>\n",
       "      <th>Age</th>\n",
       "      <th>SibSp</th>\n",
       "      <th>Parch</th>\n",
       "      <th>Ticket</th>\n",
       "      <th>Fare</th>\n",
       "      <th>Cabin</th>\n",
       "      <th>Embarked</th>\n",
       "    </tr>\n",
       "  </thead>\n",
       "  <tbody>\n",
       "    <tr>\n",
       "      <th>0</th>\n",
       "      <td>1</td>\n",
       "      <td>0</td>\n",
       "      <td>3</td>\n",
       "      <td>Braund, Mr. Owen Harris</td>\n",
       "      <td>male</td>\n",
       "      <td>22.0</td>\n",
       "      <td>1</td>\n",
       "      <td>0</td>\n",
       "      <td>A/5 21171</td>\n",
       "      <td>7.2500</td>\n",
       "      <td>NaN</td>\n",
       "      <td>S</td>\n",
       "    </tr>\n",
       "    <tr>\n",
       "      <th>1</th>\n",
       "      <td>2</td>\n",
       "      <td>1</td>\n",
       "      <td>1</td>\n",
       "      <td>Cumings, Mrs. John Bradley (Florence Briggs Th...</td>\n",
       "      <td>female</td>\n",
       "      <td>38.0</td>\n",
       "      <td>1</td>\n",
       "      <td>0</td>\n",
       "      <td>PC 17599</td>\n",
       "      <td>71.2833</td>\n",
       "      <td>C85</td>\n",
       "      <td>C</td>\n",
       "    </tr>\n",
       "    <tr>\n",
       "      <th>2</th>\n",
       "      <td>3</td>\n",
       "      <td>1</td>\n",
       "      <td>3</td>\n",
       "      <td>Heikkinen, Miss. Laina</td>\n",
       "      <td>female</td>\n",
       "      <td>26.0</td>\n",
       "      <td>0</td>\n",
       "      <td>0</td>\n",
       "      <td>STON/O2. 3101282</td>\n",
       "      <td>7.9250</td>\n",
       "      <td>NaN</td>\n",
       "      <td>S</td>\n",
       "    </tr>\n",
       "    <tr>\n",
       "      <th>3</th>\n",
       "      <td>4</td>\n",
       "      <td>1</td>\n",
       "      <td>1</td>\n",
       "      <td>Futrelle, Mrs. Jacques Heath (Lily May Peel)</td>\n",
       "      <td>female</td>\n",
       "      <td>35.0</td>\n",
       "      <td>1</td>\n",
       "      <td>0</td>\n",
       "      <td>113803</td>\n",
       "      <td>53.1000</td>\n",
       "      <td>C123</td>\n",
       "      <td>S</td>\n",
       "    </tr>\n",
       "    <tr>\n",
       "      <th>4</th>\n",
       "      <td>5</td>\n",
       "      <td>0</td>\n",
       "      <td>3</td>\n",
       "      <td>Allen, Mr. William Henry</td>\n",
       "      <td>male</td>\n",
       "      <td>35.0</td>\n",
       "      <td>0</td>\n",
       "      <td>0</td>\n",
       "      <td>373450</td>\n",
       "      <td>8.0500</td>\n",
       "      <td>NaN</td>\n",
       "      <td>S</td>\n",
       "    </tr>\n",
       "  </tbody>\n",
       "</table>\n",
       "</div>"
      ],
      "text/plain": [
       "   PassengerId  Survived  Pclass  \\\n",
       "0            1         0       3   \n",
       "1            2         1       1   \n",
       "2            3         1       3   \n",
       "3            4         1       1   \n",
       "4            5         0       3   \n",
       "\n",
       "                                                Name     Sex   Age  SibSp  \\\n",
       "0                            Braund, Mr. Owen Harris    male  22.0      1   \n",
       "1  Cumings, Mrs. John Bradley (Florence Briggs Th...  female  38.0      1   \n",
       "2                             Heikkinen, Miss. Laina  female  26.0      0   \n",
       "3       Futrelle, Mrs. Jacques Heath (Lily May Peel)  female  35.0      1   \n",
       "4                           Allen, Mr. William Henry    male  35.0      0   \n",
       "\n",
       "   Parch            Ticket     Fare Cabin Embarked  \n",
       "0      0         A/5 21171   7.2500   NaN        S  \n",
       "1      0          PC 17599  71.2833   C85        C  \n",
       "2      0  STON/O2. 3101282   7.9250   NaN        S  \n",
       "3      0            113803  53.1000  C123        S  \n",
       "4      0            373450   8.0500   NaN        S  "
      ]
     },
     "execution_count": 3,
     "metadata": {},
     "output_type": "execute_result"
    }
   ],
   "source": [
    "titanic_train.head()"
   ]
  },
  {
   "cell_type": "code",
   "execution_count": 4,
   "id": "27ce30ce",
   "metadata": {
    "execution": {
     "iopub.execute_input": "2023-06-14T09:21:11.399437Z",
     "iopub.status.busy": "2023-06-14T09:21:11.399014Z",
     "iopub.status.idle": "2023-06-14T09:21:11.407077Z",
     "shell.execute_reply": "2023-06-14T09:21:11.405474Z"
    },
    "papermill": {
     "duration": 0.02133,
     "end_time": "2023-06-14T09:21:11.409117",
     "exception": false,
     "start_time": "2023-06-14T09:21:11.387787",
     "status": "completed"
    },
    "tags": []
   },
   "outputs": [
    {
     "data": {
      "text/plain": [
       "(891, 12)"
      ]
     },
     "execution_count": 4,
     "metadata": {},
     "output_type": "execute_result"
    }
   ],
   "source": [
    "titanic_train.shape"
   ]
  },
  {
   "cell_type": "code",
   "execution_count": 5,
   "id": "2d6e9685",
   "metadata": {
    "execution": {
     "iopub.execute_input": "2023-06-14T09:21:11.427613Z",
     "iopub.status.busy": "2023-06-14T09:21:11.427095Z",
     "iopub.status.idle": "2023-06-14T09:21:11.448220Z",
     "shell.execute_reply": "2023-06-14T09:21:11.447343Z"
    },
    "papermill": {
     "duration": 0.032833,
     "end_time": "2023-06-14T09:21:11.450125",
     "exception": false,
     "start_time": "2023-06-14T09:21:11.417292",
     "status": "completed"
    },
    "tags": []
   },
   "outputs": [
    {
     "data": {
      "text/plain": [
       "0    549\n",
       "1    342\n",
       "Name: Survived, dtype: int64"
      ]
     },
     "execution_count": 5,
     "metadata": {},
     "output_type": "execute_result"
    }
   ],
   "source": [
    "titanic_train['Survived'].value_counts()"
   ]
  },
  {
   "cell_type": "code",
   "execution_count": 6,
   "id": "b4ca437e",
   "metadata": {
    "execution": {
     "iopub.execute_input": "2023-06-14T09:21:11.468823Z",
     "iopub.status.busy": "2023-06-14T09:21:11.468253Z",
     "iopub.status.idle": "2023-06-14T09:21:11.640638Z",
     "shell.execute_reply": "2023-06-14T09:21:11.639414Z"
    },
    "papermill": {
     "duration": 0.183521,
     "end_time": "2023-06-14T09:21:11.642999",
     "exception": false,
     "start_time": "2023-06-14T09:21:11.459478",
     "status": "completed"
    },
    "tags": []
   },
   "outputs": [
    {
     "data": {
      "text/plain": [
       "<BarContainer object of 2 artists>"
      ]
     },
     "execution_count": 6,
     "metadata": {},
     "output_type": "execute_result"
    },
    {
     "data": {
      "image/png": "[encoded data removed]",
      "text/plain": [
       "<Figure size 360x360 with 1 Axes>"
      ]
     },
     "metadata": {
      "needs_background": "light"
     },
     "output_type": "display_data"
    }
   ],
   "source": [
    "plt.figure(figsize=(5,5))\n",
    "plt.bar(list(titanic_train['Survived'].value_counts().keys()),list(titanic_train['Survived'].value_counts()), color=[\"r\", \"g\"])"
   ]
  },
  {
   "cell_type": "code",
   "execution_count": 7,
   "id": "83c93a0f",
   "metadata": {
    "execution": {
     "iopub.execute_input": "2023-06-14T09:21:11.661261Z",
     "iopub.status.busy": "2023-06-14T09:21:11.660773Z",
     "iopub.status.idle": "2023-06-14T09:21:11.671202Z",
     "shell.execute_reply": "2023-06-14T09:21:11.669666Z"
    },
    "papermill": {
     "duration": 0.022573,
     "end_time": "2023-06-14T09:21:11.673743",
     "exception": false,
     "start_time": "2023-06-14T09:21:11.651170",
     "status": "completed"
    },
    "tags": []
   },
   "outputs": [
    {
     "data": {
      "text/plain": [
       "3    491\n",
       "1    216\n",
       "2    184\n",
       "Name: Pclass, dtype: int64"
      ]
     },
     "execution_count": 7,
     "metadata": {},
     "output_type": "execute_result"
    }
   ],
   "source": [
    "titanic_train['Pclass'].value_counts()"
   ]
  },
  {
   "cell_type": "code",
   "execution_count": 8,
   "id": "c118cd59",
   "metadata": {
    "execution": {
     "iopub.execute_input": "2023-06-14T09:21:11.692844Z",
     "iopub.status.busy": "2023-06-14T09:21:11.691392Z",
     "iopub.status.idle": "2023-06-14T09:21:11.805581Z",
     "shell.execute_reply": "2023-06-14T09:21:11.804882Z"
    },
    "papermill": {
     "duration": 0.125667,
     "end_time": "2023-06-14T09:21:11.807743",
     "exception": false,
     "start_time": "2023-06-14T09:21:11.682076",
     "status": "completed"
    },
    "tags": []
   },
   "outputs": [
    {
     "data": {
      "image/png": "[encoded data removed]",
      "text/plain": [
       "<Figure size 360x360 with 1 Axes>"
      ]
     },
     "metadata": {
      "needs_background": "light"
     },
     "output_type": "display_data"
    }
   ],
   "source": [
    "plt.figure(figsize=(5,5))\n",
    "plt.bar(list(titanic_train['Pclass'].value_counts().keys()),list(titanic_train['Pclass'].value_counts()),color=[\"blue\",\"green\",\"orange\"])\n",
    "plt.show()"
   ]
  },
  {
   "cell_type": "code",
   "execution_count": 9,
   "id": "131be899",
   "metadata": {
    "execution": {
     "iopub.execute_input": "2023-06-14T09:21:11.831225Z",
     "iopub.status.busy": "2023-06-14T09:21:11.830813Z",
     "iopub.status.idle": "2023-06-14T09:21:11.839376Z",
     "shell.execute_reply": "2023-06-14T09:21:11.838340Z"
    },
    "papermill": {
     "duration": 0.023409,
     "end_time": "2023-06-14T09:21:11.841804",
     "exception": false,
     "start_time": "2023-06-14T09:21:11.818395",
     "status": "completed"
    },
    "tags": []
   },
   "outputs": [
    {
     "data": {
      "text/plain": [
       "male      577\n",
       "female    314\n",
       "Name: Sex, dtype: int64"
      ]
     },
     "execution_count": 9,
     "metadata": {},
     "output_type": "execute_result"
    }
   ],
   "source": [
    "titanic_train['Sex'].value_counts()"
   ]
  },
  {
   "cell_type": "code",
   "execution_count": 10,
   "id": "f1993c38",
   "metadata": {
    "execution": {
     "iopub.execute_input": "2023-06-14T09:21:11.860271Z",
     "iopub.status.busy": "2023-06-14T09:21:11.859730Z",
     "iopub.status.idle": "2023-06-14T09:21:11.945587Z",
     "shell.execute_reply": "2023-06-14T09:21:11.943918Z"
    },
    "papermill": {
     "duration": 0.098265,
     "end_time": "2023-06-14T09:21:11.948502",
     "exception": false,
     "start_time": "2023-06-14T09:21:11.850237",
     "status": "completed"
    },
    "tags": []
   },
   "outputs": [
    {
     "data": {
      "image/png": "[encoded data removed]",
      "text/plain": [
       "<Figure size 360x360 with 1 Axes>"
      ]
     },
     "metadata": {
      "needs_background": "light"
     },
     "output_type": "display_data"
    }
   ],
   "source": [
    "plt.figure(figsize=(5,5))\n",
    "plt.bar(list(titanic_train['Sex'].value_counts().keys()),list(titanic_train['Sex'].value_counts()),color=\"Green\")\n",
    "plt.show()"
   ]
  },
  {
   "cell_type": "code",
   "execution_count": 11,
   "id": "d3c8af33",
   "metadata": {
    "execution": {
     "iopub.execute_input": "2023-06-14T09:21:11.969133Z",
     "iopub.status.busy": "2023-06-14T09:21:11.968506Z",
     "iopub.status.idle": "2023-06-14T09:21:12.117411Z",
     "shell.execute_reply": "2023-06-14T09:21:12.116463Z"
    },
    "papermill": {
     "duration": 0.161342,
     "end_time": "2023-06-14T09:21:12.119946",
     "exception": false,
     "start_time": "2023-06-14T09:21:11.958604",
     "status": "completed"
    },
    "tags": []
   },
   "outputs": [
    {
     "data": {
      "image/png": "[encoded data removed]",
      "text/plain": [
       "<Figure size 360x504 with 1 Axes>"
      ]
     },
     "metadata": {
      "needs_background": "light"
     },
     "output_type": "display_data"
    }
   ],
   "source": [
    "plt.figure(figsize=(5,7))\n",
    "plt.hist(titanic_train['Age'])\n",
    "plt.title(\"Distribution of Age\")\n",
    "plt.xlabel(\"Age\")\n",
    "plt.show()"
   ]
  },
  {
   "cell_type": "code",
   "execution_count": 12,
   "id": "deacc966",
   "metadata": {
    "execution": {
     "iopub.execute_input": "2023-06-14T09:21:12.139614Z",
     "iopub.status.busy": "2023-06-14T09:21:12.139241Z",
     "iopub.status.idle": "2023-06-14T09:21:12.146508Z",
     "shell.execute_reply": "2023-06-14T09:21:12.145574Z"
    },
    "papermill": {
     "duration": 0.019374,
     "end_time": "2023-06-14T09:21:12.148560",
     "exception": false,
     "start_time": "2023-06-14T09:21:12.129186",
     "status": "completed"
    },
    "tags": []
   },
   "outputs": [
    {
     "data": {
      "text/plain": [
       "0"
      ]
     },
     "execution_count": 12,
     "metadata": {},
     "output_type": "execute_result"
    }
   ],
   "source": [
    "sum(titanic_train['Survived'].isnull())"
   ]
  },
  {
   "cell_type": "code",
   "execution_count": 13,
   "id": "86c0ea02",
   "metadata": {
    "execution": {
     "iopub.execute_input": "2023-06-14T09:21:12.169420Z",
     "iopub.status.busy": "2023-06-14T09:21:12.168413Z",
     "iopub.status.idle": "2023-06-14T09:21:12.177830Z",
     "shell.execute_reply": "2023-06-14T09:21:12.176210Z"
    },
    "papermill": {
     "duration": 0.02222,
     "end_time": "2023-06-14T09:21:12.180268",
     "exception": false,
     "start_time": "2023-06-14T09:21:12.158048",
     "status": "completed"
    },
    "tags": []
   },
   "outputs": [
    {
     "data": {
      "text/plain": [
       "0      False\n",
       "1      False\n",
       "2      False\n",
       "3      False\n",
       "4      False\n",
       "       ...  \n",
       "886    False\n",
       "887    False\n",
       "888     True\n",
       "889    False\n",
       "890    False\n",
       "Name: Age, Length: 891, dtype: bool"
      ]
     },
     "execution_count": 13,
     "metadata": {},
     "output_type": "execute_result"
    }
   ],
   "source": [
    "titanic_train['Age'].isnull()"
   ]
  },
  {
   "cell_type": "code",
   "execution_count": 14,
   "id": "e473c18a",
   "metadata": {
    "execution": {
     "iopub.execute_input": "2023-06-14T09:21:12.200538Z",
     "iopub.status.busy": "2023-06-14T09:21:12.200141Z",
     "iopub.status.idle": "2023-06-14T09:21:12.217389Z",
     "shell.execute_reply": "2023-06-14T09:21:12.216244Z"
    },
    "papermill": {
     "duration": 0.030009,
     "end_time": "2023-06-14T09:21:12.219657",
     "exception": false,
     "start_time": "2023-06-14T09:21:12.189648",
     "status": "completed"
    },
    "tags": []
   },
   "outputs": [],
   "source": [
    "titanic_train=titanic_train.dropna()"
   ]
  },
  {
   "cell_type": "code",
   "execution_count": 15,
   "id": "d33a79f6",
   "metadata": {
    "execution": {
     "iopub.execute_input": "2023-06-14T09:21:12.241820Z",
     "iopub.status.busy": "2023-06-14T09:21:12.239996Z",
     "iopub.status.idle": "2023-06-14T09:21:12.246535Z",
     "shell.execute_reply": "2023-06-14T09:21:12.245075Z"
    },
    "papermill": {
     "duration": 0.020133,
     "end_time": "2023-06-14T09:21:12.249107",
     "exception": false,
     "start_time": "2023-06-14T09:21:12.228974",
     "status": "completed"
    },
    "tags": []
   },
   "outputs": [],
   "source": [
    "#building model"
   ]
  },
  {
   "cell_type": "code",
   "execution_count": 16,
   "id": "a8079ae2",
   "metadata": {
    "execution": {
     "iopub.execute_input": "2023-06-14T09:21:12.269154Z",
     "iopub.status.busy": "2023-06-14T09:21:12.268742Z",
     "iopub.status.idle": "2023-06-14T09:21:12.277536Z",
     "shell.execute_reply": "2023-06-14T09:21:12.276586Z"
    },
    "papermill": {
     "duration": 0.021084,
     "end_time": "2023-06-14T09:21:12.279490",
     "exception": false,
     "start_time": "2023-06-14T09:21:12.258406",
     "status": "completed"
    },
    "tags": []
   },
   "outputs": [
    {
     "data": {
      "text/plain": [
       "0"
      ]
     },
     "execution_count": 16,
     "metadata": {},
     "output_type": "execute_result"
    }
   ],
   "source": [
    "sum(titanic_train['Survived'].isnull())"
   ]
  },
  {
   "cell_type": "code",
   "execution_count": 17,
   "id": "fe8fe0cc",
   "metadata": {
    "execution": {
     "iopub.execute_input": "2023-06-14T09:21:12.300570Z",
     "iopub.status.busy": "2023-06-14T09:21:12.299818Z",
     "iopub.status.idle": "2023-06-14T09:21:12.307037Z",
     "shell.execute_reply": "2023-06-14T09:21:12.306268Z"
    },
    "papermill": {
     "duration": 0.020285,
     "end_time": "2023-06-14T09:21:12.308999",
     "exception": false,
     "start_time": "2023-06-14T09:21:12.288714",
     "status": "completed"
    },
    "tags": []
   },
   "outputs": [
    {
     "data": {
      "text/plain": [
       "0"
      ]
     },
     "execution_count": 17,
     "metadata": {},
     "output_type": "execute_result"
    }
   ],
   "source": [
    "sum(titanic_train['Age'].isnull())"
   ]
  },
  {
   "cell_type": "code",
   "execution_count": 18,
   "id": "b3f87148",
   "metadata": {
    "execution": {
     "iopub.execute_input": "2023-06-14T09:21:12.329266Z",
     "iopub.status.busy": "2023-06-14T09:21:12.328609Z",
     "iopub.status.idle": "2023-06-14T09:21:12.335351Z",
     "shell.execute_reply": "2023-06-14T09:21:12.334399Z"
    },
    "papermill": {
     "duration": 0.019704,
     "end_time": "2023-06-14T09:21:12.338017",
     "exception": false,
     "start_time": "2023-06-14T09:21:12.318313",
     "status": "completed"
    },
    "tags": []
   },
   "outputs": [],
   "source": [
    "x_train=titanic_train[['Age']]\n",
    "y_train=titanic_train[['Survived']]"
   ]
  },
  {
   "cell_type": "code",
   "execution_count": 19,
   "id": "afe0187c",
   "metadata": {
    "execution": {
     "iopub.execute_input": "2023-06-14T09:21:12.359399Z",
     "iopub.status.busy": "2023-06-14T09:21:12.358756Z",
     "iopub.status.idle": "2023-06-14T09:21:14.069970Z",
     "shell.execute_reply": "2023-06-14T09:21:14.068138Z"
    },
    "papermill": {
     "duration": 1.724932,
     "end_time": "2023-06-14T09:21:14.072774",
     "exception": false,
     "start_time": "2023-06-14T09:21:12.347842",
     "status": "completed"
    },
    "tags": []
   },
   "outputs": [],
   "source": [
    "from sklearn.tree import DecisionTreeClassifier"
   ]
  },
  {
   "cell_type": "code",
   "execution_count": 20,
   "id": "a2997e90",
   "metadata": {
    "execution": {
     "iopub.execute_input": "2023-06-14T09:21:14.094563Z",
     "iopub.status.busy": "2023-06-14T09:21:14.094036Z",
     "iopub.status.idle": "2023-06-14T09:21:14.102078Z",
     "shell.execute_reply": "2023-06-14T09:21:14.099846Z"
    },
    "papermill": {
     "duration": 0.022508,
     "end_time": "2023-06-14T09:21:14.104958",
     "exception": false,
     "start_time": "2023-06-14T09:21:14.082450",
     "status": "completed"
    },
    "tags": []
   },
   "outputs": [],
   "source": [
    "dtc = DecisionTreeClassifier()"
   ]
  },
  {
   "cell_type": "code",
   "execution_count": 21,
   "id": "785bee58",
   "metadata": {
    "execution": {
     "iopub.execute_input": "2023-06-14T09:21:14.129345Z",
     "iopub.status.busy": "2023-06-14T09:21:14.127976Z",
     "iopub.status.idle": "2023-06-14T09:21:14.148815Z",
     "shell.execute_reply": "2023-06-14T09:21:14.146630Z"
    },
    "papermill": {
     "duration": 0.037061,
     "end_time": "2023-06-14T09:21:14.152345",
     "exception": false,
     "start_time": "2023-06-14T09:21:14.115284",
     "status": "completed"
    },
    "tags": []
   },
   "outputs": [
    {
     "data": {
      "text/plain": [
       "DecisionTreeClassifier()"
      ]
     },
     "execution_count": 21,
     "metadata": {},
     "output_type": "execute_result"
    }
   ],
   "source": [
    "dtc.fit(x_train, y_train)"
   ]
  },
  {
   "cell_type": "code",
   "execution_count": 22,
   "id": "3c5ecf79",
   "metadata": {
    "execution": {
     "iopub.execute_input": "2023-06-14T09:21:14.173211Z",
     "iopub.status.busy": "2023-06-14T09:21:14.172790Z",
     "iopub.status.idle": "2023-06-14T09:21:14.179372Z",
     "shell.execute_reply": "2023-06-14T09:21:14.177170Z"
    },
    "papermill": {
     "duration": 0.020333,
     "end_time": "2023-06-14T09:21:14.182264",
     "exception": false,
     "start_time": "2023-06-14T09:21:14.161931",
     "status": "completed"
    },
    "tags": []
   },
   "outputs": [],
   "source": [
    "#Predicting Values"
   ]
  },
  {
   "cell_type": "code",
   "execution_count": 23,
   "id": "3cfc5019",
   "metadata": {
    "execution": {
     "iopub.execute_input": "2023-06-14T09:21:14.205077Z",
     "iopub.status.busy": "2023-06-14T09:21:14.204581Z",
     "iopub.status.idle": "2023-06-14T09:21:14.213687Z",
     "shell.execute_reply": "2023-06-14T09:21:14.212452Z"
    },
    "papermill": {
     "duration": 0.024547,
     "end_time": "2023-06-14T09:21:14.216376",
     "exception": false,
     "start_time": "2023-06-14T09:21:14.191829",
     "status": "completed"
    },
    "tags": []
   },
   "outputs": [
    {
     "data": {
      "text/plain": [
       "86"
      ]
     },
     "execution_count": 23,
     "metadata": {},
     "output_type": "execute_result"
    }
   ],
   "source": [
    "sum(titanic_test['Age'].isnull())"
   ]
  },
  {
   "cell_type": "code",
   "execution_count": 24,
   "id": "7c08932d",
   "metadata": {
    "execution": {
     "iopub.execute_input": "2023-06-14T09:21:14.237593Z",
     "iopub.status.busy": "2023-06-14T09:21:14.237165Z",
     "iopub.status.idle": "2023-06-14T09:21:14.245169Z",
     "shell.execute_reply": "2023-06-14T09:21:14.243887Z"
    },
    "papermill": {
     "duration": 0.021184,
     "end_time": "2023-06-14T09:21:14.247349",
     "exception": false,
     "start_time": "2023-06-14T09:21:14.226165",
     "status": "completed"
    },
    "tags": []
   },
   "outputs": [],
   "source": [
    "titanic_test=titanic_test.dropna()"
   ]
  },
  {
   "cell_type": "code",
   "execution_count": 25,
   "id": "6adae73d",
   "metadata": {
    "execution": {
     "iopub.execute_input": "2023-06-14T09:21:14.268661Z",
     "iopub.status.busy": "2023-06-14T09:21:14.268102Z",
     "iopub.status.idle": "2023-06-14T09:21:14.279096Z",
     "shell.execute_reply": "2023-06-14T09:21:14.277316Z"
    },
    "papermill": {
     "duration": 0.025333,
     "end_time": "2023-06-14T09:21:14.282130",
     "exception": false,
     "start_time": "2023-06-14T09:21:14.256797",
     "status": "completed"
    },
    "tags": []
   },
   "outputs": [
    {
     "data": {
      "text/plain": [
       "0"
      ]
     },
     "execution_count": 25,
     "metadata": {},
     "output_type": "execute_result"
    }
   ],
   "source": [
    "sum(titanic_test['Age'].isnull())"
   ]
  },
  {
   "cell_type": "code",
   "execution_count": 26,
   "id": "bfbdd83f",
   "metadata": {
    "execution": {
     "iopub.execute_input": "2023-06-14T09:21:14.304052Z",
     "iopub.status.busy": "2023-06-14T09:21:14.303639Z",
     "iopub.status.idle": "2023-06-14T09:21:14.311396Z",
     "shell.execute_reply": "2023-06-14T09:21:14.309098Z"
    },
    "papermill": {
     "duration": 0.022714,
     "end_time": "2023-06-14T09:21:14.314681",
     "exception": false,
     "start_time": "2023-06-14T09:21:14.291967",
     "status": "completed"
    },
    "tags": []
   },
   "outputs": [],
   "source": [
    "x_test=titanic_test[['Age']]"
   ]
  },
  {
   "cell_type": "code",
   "execution_count": 27,
   "id": "9b5c8fc1",
   "metadata": {
    "execution": {
     "iopub.execute_input": "2023-06-14T09:21:14.335712Z",
     "iopub.status.busy": "2023-06-14T09:21:14.335245Z",
     "iopub.status.idle": "2023-06-14T09:21:14.344337Z",
     "shell.execute_reply": "2023-06-14T09:21:14.342784Z"
    },
    "papermill": {
     "duration": 0.022695,
     "end_time": "2023-06-14T09:21:14.347314",
     "exception": false,
     "start_time": "2023-06-14T09:21:14.324619",
     "status": "completed"
    },
    "tags": []
   },
   "outputs": [],
   "source": [
    "y_pred=dtc.predict(x_test)"
   ]
  },
  {
   "cell_type": "code",
   "execution_count": 28,
   "id": "b341a4f5",
   "metadata": {
    "execution": {
     "iopub.execute_input": "2023-06-14T09:21:14.368408Z",
     "iopub.status.busy": "2023-06-14T09:21:14.367972Z",
     "iopub.status.idle": "2023-06-14T09:21:14.377115Z",
     "shell.execute_reply": "2023-06-14T09:21:14.376253Z"
    },
    "papermill": {
     "duration": 0.02269,
     "end_time": "2023-06-14T09:21:14.379684",
     "exception": false,
     "start_time": "2023-06-14T09:21:14.356994",
     "status": "completed"
    },
    "tags": []
   },
   "outputs": [
    {
     "data": {
      "text/plain": [
       "array([1, 0, 1, 1, 1, 1, 0, 0, 1, 1, 1, 0, 1, 1, 1, 1, 1, 1, 1, 0, 0, 1,\n",
       "       1, 1, 1, 1, 1, 1, 1, 1, 1, 0, 1, 0, 1, 1, 0, 1, 0, 0, 1, 1, 1, 0,\n",
       "       1, 1, 0, 1, 1, 0, 1, 0, 1, 1, 0, 1, 1, 1, 0, 1, 0, 0, 0, 0, 1, 1,\n",
       "       1, 1, 1, 0, 0, 1, 0, 1, 1, 0, 0, 1, 1, 1, 1, 1, 1, 0, 0, 0, 1])"
      ]
     },
     "execution_count": 28,
     "metadata": {},
     "output_type": "execute_result"
    }
   ],
   "source": [
    "y_pred"
   ]
  },
  {
   "cell_type": "code",
   "execution_count": 29,
   "id": "acac3c62",
   "metadata": {
    "execution": {
     "iopub.execute_input": "2023-06-14T09:21:14.402496Z",
     "iopub.status.busy": "2023-06-14T09:21:14.401922Z",
     "iopub.status.idle": "2023-06-14T09:21:14.413212Z",
     "shell.execute_reply": "2023-06-14T09:21:14.411589Z"
    },
    "papermill": {
     "duration": 0.025603,
     "end_time": "2023-06-14T09:21:14.415608",
     "exception": false,
     "start_time": "2023-06-14T09:21:14.390005",
     "status": "completed"
    },
    "tags": []
   },
   "outputs": [
    {
     "data": {
      "text/plain": [
       "(87,)"
      ]
     },
     "execution_count": 29,
     "metadata": {},
     "output_type": "execute_result"
    }
   ],
   "source": [
    "y_pred.shape"
   ]
  },
  {
   "cell_type": "code",
   "execution_count": 30,
   "id": "f50442d9",
   "metadata": {
    "execution": {
     "iopub.execute_input": "2023-06-14T09:21:14.439167Z",
     "iopub.status.busy": "2023-06-14T09:21:14.438713Z",
     "iopub.status.idle": "2023-06-14T09:21:14.444444Z",
     "shell.execute_reply": "2023-06-14T09:21:14.443215Z"
    },
    "papermill": {
     "duration": 0.021108,
     "end_time": "2023-06-14T09:21:14.447120",
     "exception": false,
     "start_time": "2023-06-14T09:21:14.426012",
     "status": "completed"
    },
    "tags": []
   },
   "outputs": [],
   "source": [
    "data_frame = pd.DataFrame(y_pred)"
   ]
  },
  {
   "cell_type": "code",
   "execution_count": 31,
   "id": "3b49c9e9",
   "metadata": {
    "execution": {
     "iopub.execute_input": "2023-06-14T09:21:14.468271Z",
     "iopub.status.busy": "2023-06-14T09:21:14.467848Z",
     "iopub.status.idle": "2023-06-14T09:21:14.478930Z",
     "shell.execute_reply": "2023-06-14T09:21:14.477903Z"
    },
    "papermill": {
     "duration": 0.024658,
     "end_time": "2023-06-14T09:21:14.481491",
     "exception": false,
     "start_time": "2023-06-14T09:21:14.456833",
     "status": "completed"
    },
    "tags": []
   },
   "outputs": [
    {
     "data": {
      "text/html": [
       "<div>\n",
       "<style scoped>\n",
       "    .dataframe tbody tr th:only-of-type {\n",
       "        vertical-align: middle;\n",
       "    }\n",
       "\n",
       "    .dataframe tbody tr th {\n",
       "        vertical-align: top;\n",
       "    }\n",
       "\n",
       "    .dataframe thead th {\n",
       "        text-align: right;\n",
       "    }\n",
       "</style>\n",
       "<table border=\"1\" class=\"dataframe\">\n",
       "  <thead>\n",
       "    <tr style=\"text-align: right;\">\n",
       "      <th></th>\n",
       "      <th>0</th>\n",
       "    </tr>\n",
       "  </thead>\n",
       "  <tbody>\n",
       "    <tr>\n",
       "      <th>0</th>\n",
       "      <td>1</td>\n",
       "    </tr>\n",
       "    <tr>\n",
       "      <th>1</th>\n",
       "      <td>0</td>\n",
       "    </tr>\n",
       "    <tr>\n",
       "      <th>2</th>\n",
       "      <td>1</td>\n",
       "    </tr>\n",
       "    <tr>\n",
       "      <th>3</th>\n",
       "      <td>1</td>\n",
       "    </tr>\n",
       "    <tr>\n",
       "      <th>4</th>\n",
       "      <td>1</td>\n",
       "    </tr>\n",
       "    <tr>\n",
       "      <th>...</th>\n",
       "      <td>...</td>\n",
       "    </tr>\n",
       "    <tr>\n",
       "      <th>82</th>\n",
       "      <td>1</td>\n",
       "    </tr>\n",
       "    <tr>\n",
       "      <th>83</th>\n",
       "      <td>0</td>\n",
       "    </tr>\n",
       "    <tr>\n",
       "      <th>84</th>\n",
       "      <td>0</td>\n",
       "    </tr>\n",
       "    <tr>\n",
       "      <th>85</th>\n",
       "      <td>0</td>\n",
       "    </tr>\n",
       "    <tr>\n",
       "      <th>86</th>\n",
       "      <td>1</td>\n",
       "    </tr>\n",
       "  </tbody>\n",
       "</table>\n",
       "<p>87 rows × 1 columns</p>\n",
       "</div>"
      ],
      "text/plain": [
       "    0\n",
       "0   1\n",
       "1   0\n",
       "2   1\n",
       "3   1\n",
       "4   1\n",
       ".. ..\n",
       "82  1\n",
       "83  0\n",
       "84  0\n",
       "85  0\n",
       "86  1\n",
       "\n",
       "[87 rows x 1 columns]"
      ]
     },
     "execution_count": 31,
     "metadata": {},
     "output_type": "execute_result"
    }
   ],
   "source": [
    "data_frame"
   ]
  },
  {
   "cell_type": "code",
   "execution_count": 32,
   "id": "38508f51",
   "metadata": {
    "execution": {
     "iopub.execute_input": "2023-06-14T09:21:14.504554Z",
     "iopub.status.busy": "2023-06-14T09:21:14.504030Z",
     "iopub.status.idle": "2023-06-14T09:21:14.513562Z",
     "shell.execute_reply": "2023-06-14T09:21:14.512372Z"
    },
    "papermill": {
     "duration": 0.024866,
     "end_time": "2023-06-14T09:21:14.516371",
     "exception": false,
     "start_time": "2023-06-14T09:21:14.491505",
     "status": "completed"
    },
    "tags": []
   },
   "outputs": [],
   "source": [
    "data_frame.to_csv(\"submission.csv\")"
   ]
  },
  {
   "cell_type": "code",
   "execution_count": 33,
   "id": "264b0656",
   "metadata": {
    "execution": {
     "iopub.execute_input": "2023-06-14T09:21:14.539431Z",
     "iopub.status.busy": "2023-06-14T09:21:14.538980Z",
     "iopub.status.idle": "2023-06-14T09:21:14.545101Z",
     "shell.execute_reply": "2023-06-14T09:21:14.543231Z"
    },
    "papermill": {
     "duration": 0.020674,
     "end_time": "2023-06-14T09:21:14.547796",
     "exception": false,
     "start_time": "2023-06-14T09:21:14.527122",
     "status": "completed"
    },
    "tags": []
   },
   "outputs": [],
   "source": [
    "#https://www.kaggle.com/code/arund8888/titanic-classification-models-score-73#6)Exploratory-Data-Analysis-"
   ]
  }
 ],
 "metadata": {
  "kernelspec": {
   "display_name": "Python 3",
   "language": "python",
   "name": "python3"
  },
  "language_info": {
   "codemirror_mode": {
    "name": "ipython",
    "version": 3
   },
   "file_extension": ".py",
   "mimetype": "text/x-python",
   "name": "python",
   "nbconvert_exporter": "python",
   "pygments_lexer": "ipython3",
   "version": "3.7.12"
  },
  "papermill": {
   "default_parameters": {},
   "duration": 15.059199,
   "end_time": "2023-06-14T09:21:15.481870",
   "environment_variables": {},
   "exception": null,
   "input_path": "__notebook__.ipynb",
   "output_path": "__notebook__.ipynb",
   "parameters": {},
   "start_time": "2023-06-14T09:21:00.422671",
   "version": "2.3.4"
  }
 },
 "nbformat": 4,
 "nbformat_minor": 5
}
